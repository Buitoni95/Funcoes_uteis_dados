{
 "cells": [
  {
   "cell_type": "code",
   "execution_count": 2,
   "id": "74512bd3",
   "metadata": {},
   "outputs": [],
   "source": [
    "%matplotlib inline\n",
    "import matplotlib.pyplot as plt\n",
    "import pandas as pd\n",
    "plt.rc('figure', figsize = (15, 8))"
   ]
  },
  {
   "cell_type": "code",
   "execution_count": 5,
   "id": "05329242",
   "metadata": {},
   "outputs": [],
   "source": [
    "dados = pd.read_csv('dados/aluguel.csv', sep = ';')"
   ]
  },
  {
   "cell_type": "code",
   "execution_count": null,
   "id": "27e8fd3c",
   "metadata": {},
   "outputs": [],
   "source": [
    "dados.head()"
   ]
  },
  {
   "cell_type": "code",
   "execution_count": null,
   "id": "d995f53f",
   "metadata": {},
   "outputs": [],
   "source": [
    "area = plt.figure()"
   ]
  },
  {
   "cell_type": "code",
   "execution_count": null,
   "id": "7171c871",
   "metadata": {},
   "outputs": [],
   "source": [
    "g1 = area.add_subplot(2, 2, 1)\n",
    "g2 = area.add_subplot(2, 2, 2)\n",
    "g3 = area.add_subplot(2, 2, 3)\n",
    "g4 = area.add_subplot(2, 2, 4)"
   ]
  },
  {
   "cell_type": "code",
   "execution_count": null,
   "id": "581c83fe",
   "metadata": {},
   "outputs": [],
   "source": [
    "g1.scatter(dados.Valor, dados.Area, color = 'blue')\n",
    "g1.set_title('Valor X Área')\n"
   ]
  },
  {
   "cell_type": "code",
   "execution_count": null,
   "id": "c1dd7699",
   "metadata": {},
   "outputs": [],
   "source": [
    "g2.hist(dados.Valor, color = 'gray')\n",
    "g2.set_title('Histograma')"
   ]
  },
  {
   "cell_type": "code",
   "execution_count": null,
   "id": "5e6af516",
   "metadata": {},
   "outputs": [],
   "source": [
    "dados_g3 = dados.Valor.sample(100)\n",
    "dados_g3.index = range(dados_g3.shape[0])\n",
    "dados_g3\n",
    "\n",
    "g3.plot(dados_g3)\n",
    "g3.set_title('Amostra')"
   ]
  },
  {
   "cell_type": "code",
   "execution_count": null,
   "id": "490e8da4",
   "metadata": {},
   "outputs": [],
   "source": [
    "grupo = dados.groupby('Tipo')['Valor']\n",
    "\n",
    "label = grupo.mean().index\n",
    "valores = grupo.mean().values\n",
    "\n",
    "g4.bar(label, valores, color = 'red')\n",
    "g4.set_title('Grafico em barra')"
   ]
  },
  {
   "cell_type": "code",
   "execution_count": null,
   "id": "4aeb1bc3",
   "metadata": {},
   "outputs": [],
   "source": [
    "area"
   ]
  }
 ],
 "metadata": {
  "kernelspec": {
   "display_name": "Python 3 (ipykernel)",
   "language": "python",
   "name": "python3"
  },
  "language_info": {
   "codemirror_mode": {
    "name": "ipython",
    "version": 3
   },
   "file_extension": ".py",
   "mimetype": "text/x-python",
   "name": "python",
   "nbconvert_exporter": "python",
   "pygments_lexer": "ipython3",
   "version": "3.9.7"
  }
 },
 "nbformat": 4,
 "nbformat_minor": 5
}
